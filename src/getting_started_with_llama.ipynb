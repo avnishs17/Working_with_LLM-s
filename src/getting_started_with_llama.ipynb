{
 "cells": [
  {
   "cell_type": "code",
   "execution_count": 1,
   "metadata": {},
   "outputs": [],
   "source": [
    "# !pip install ollama==0.2.1 requests==2.32.2 langchain-community==0.2.4"
   ]
  },
  {
   "cell_type": "code",
   "execution_count": 2,
   "metadata": {},
   "outputs": [],
   "source": [
    "import ollama"
   ]
  },
  {
   "cell_type": "code",
   "execution_count": 3,
   "metadata": {},
   "outputs": [
    {
     "name": "stdout",
     "output_type": "stream",
     "text": [
      "Help on method chat in module ollama._client:\n",
      "\n",
      "chat(model: str = '', messages: Optional[Sequence[ollama._types.Message]] = None, stream: bool = False, format: Literal['', 'json'] = '', options: Optional[ollama._types.Options] = None, keep_alive: Union[float, str, NoneType] = None) -> Union[Mapping[str, Any], collections.abc.Iterator[Mapping[str, Any]]] method of ollama._client.Client instance\n",
      "    Create a chat response using the requested model.\n",
      "    \n",
      "    Raises `RequestError` if a model is not provided.\n",
      "    \n",
      "    Raises `ResponseError` if the request could not be fulfilled.\n",
      "    \n",
      "    Returns `ChatResponse` if `stream` is `False`, otherwise returns a `ChatResponse` generator.\n",
      "\n"
     ]
    }
   ],
   "source": [
    "help(ollama.chat)"
   ]
  },
  {
   "cell_type": "code",
   "execution_count": 4,
   "metadata": {},
   "outputs": [],
   "source": [
    "response = ollama.chat(\n",
    "    model=\"llama3.1:8b\", \n",
    "    messages=[\n",
    "        {'role': 'system', 'content': \"You are a Machine learning enthusiast\"},\n",
    "        {'role': 'user', 'content': 'What is Machine learning?'},\n",
    "        {'role': 'assistant', 'content': \"Machine Learning is a subfield of Artificial Intelligence where a model learns from the data\"},\n",
    "        {'role': 'user', 'content': 'What is Deep Learning?'}\n",
    "    ]\n",
    ")\n"
   ]
  },
  {
   "cell_type": "code",
   "execution_count": 5,
   "metadata": {},
   "outputs": [
    {
     "name": "stdout",
     "output_type": "stream",
     "text": [
      "Deep Learning is a subset of Machine Learning that uses neural networks with multiple layers to analyze and interpret complex patterns in data, such as images, speech, or text. These neural networks are inspired by the structure and function of the human brain's neural networks.\n",
      "\n",
      "In traditional machine learning models, we often use linear combinations of features to make predictions. However, Deep Learning uses hierarchical representations of data, where each layer learns a more abstract representation of the input, allowing for the discovery of complex patterns in high-dimensional spaces.\n",
      "\n",
      "Deep Learning has revolutionized many fields, including:\n",
      "\n",
      "1. Image classification and object detection\n",
      "2. Natural language processing (NLP)\n",
      "3. Speech recognition\n",
      "4. Time series forecasting\n",
      "\n",
      "Some popular Deep Learning architectures include:\n",
      "\n",
      "1. Convolutional Neural Networks (CNNs) for image analysis\n",
      "2. Recurrent Neural Networks (RNNs) for sequential data\n",
      "3. Long Short-Term Memory (LSTM) networks for sequence modeling\n",
      "4. Generative Adversarial Networks (GANs) for generating new samples\n",
      "\n",
      "Overall, Deep Learning is a powerful tool that has enabled state-of-the-art performance in many areas of machine learning!\n"
     ]
    }
   ],
   "source": [
    "print(response['message']['content'])"
   ]
  },
  {
   "cell_type": "code",
   "execution_count": 6,
   "metadata": {},
   "outputs": [],
   "source": [
    "import json, requests"
   ]
  },
  {
   "cell_type": "markdown",
   "metadata": {},
   "source": [
    "# calling from local api endpoint"
   ]
  },
  {
   "cell_type": "code",
   "execution_count": 8,
   "metadata": {},
   "outputs": [],
   "source": [
    "ollama_endpoint =\"http://localhost:11434/api/generate\""
   ]
  },
  {
   "cell_type": "code",
   "execution_count": 9,
   "metadata": {},
   "outputs": [],
   "source": [
    "pyload = json.dumps({'model':'llama3.1:8b','prompt':'Why is the sky blue?', 'stream':False})"
   ]
  },
  {
   "cell_type": "code",
   "execution_count": 10,
   "metadata": {},
   "outputs": [],
   "source": [
    "response = requests.post(ollama_endpoint,data=pyload)"
   ]
  },
  {
   "cell_type": "code",
   "execution_count": 11,
   "metadata": {},
   "outputs": [],
   "source": [
    "response =response.json()['response']"
   ]
  },
  {
   "cell_type": "code",
   "execution_count": 12,
   "metadata": {},
   "outputs": [
    {
     "name": "stdout",
     "output_type": "stream",
     "text": [
      "The sky appears blue to us because of a phenomenon called scattering, which occurs when sunlight interacts with the tiny molecules of gases in the atmosphere. Here's a simplified explanation:\n",
      "\n",
      "1. **Sunlight enters Earth's atmosphere**: When the sun shines, it sends out all kinds of electromagnetic radiation, including visible light, ultraviolet (UV) rays, and infrared (IR) radiation.\n",
      "2. **Scattering occurs**: As sunlight travels through the atmosphere, it encounters tiny molecules of gases such as nitrogen (N2) and oxygen (O2). These molecules are much smaller than the wavelength of light. When sunlight hits these molecules, it scatters in all directions.\n",
      "3. **Blue light is scattered more**: The shorter wavelengths of light, like blue and violet, are scattered by the atmospheric molecules more efficiently than longer wavelengths, such as red and orange. This is because the smaller molecules can more easily deflect the shorter-wavelength photons.\n",
      "4. **Our eyes perceive the scattered blue light**: When we look at the sky, our eyes see the blue light that has been scattered in all directions from the sun. The blue color dominates our perception of the sky, making it appear blue.\n",
      "\n",
      "This is known as Rayleigh scattering, named after the British physicist Lord Rayleigh, who first described this phenomenon in the late 19th century. It's not just the sky that appears blue; it's also true for other clear, sunlit objects, like a cloudless day or a still pond.\n",
      "\n",
      "Additional factors can influence the apparent color of the sky:\n",
      "\n",
      "* **Dust and water vapor**: Tiny particles in the air, such as dust, smoke, or water vapor, can absorb some wavelengths of light and scatter others. This can give the sky a more hazy or grayish appearance.\n",
      "* **Time of day**: During sunrise and sunset, the sunlight has to travel through more of the atmosphere to reach our eyes. As it does so, longer wavelengths (reds and oranges) are scattered away, leaving shorter wavelengths (blues and violets) to dominate our view. This is why the sky often appears reddish during these times.\n",
      "* **Atmospheric conditions**: Weather phenomena like clouds, fog, or pollution can also affect how we see the sky.\n",
      "\n",
      "In summary, the sky's blue color is primarily due to the scattering of sunlight by atmospheric molecules, with shorter wavelengths (like blue and violet) being scattered more efficiently than longer wavelengths.\n"
     ]
    }
   ],
   "source": [
    "print(response)"
   ]
  },
  {
   "cell_type": "code",
   "execution_count": 13,
   "metadata": {},
   "outputs": [
    {
     "name": "stdout",
     "output_type": "stream",
     "text": [
      "Anime (pronounced \"AH-meh-neh\") is a style of Japanese animation that has become incredibly popular worldwide. It's often used to describe animated television shows, films, and other forms of media produced in Japan.\n",
      "\n",
      "Anime typically features colorful, stylized visuals, exaggerated character expressions, and vibrant backgrounds. Storylines can range from action-adventure to romance, science fiction, fantasy, comedy, drama, and more. Anime often explores complex themes, such as social issues, relationships, and personal growth.\n",
      "\n",
      "Some key characteristics of anime include:\n",
      "\n",
      "1. **Unique visual style**: Anime is known for its distinctive art style, which often blends traditional Japanese elements with modern computer-generated imagery.\n",
      "2. **Colorful characters**: Anime characters are often designed to be memorable and expressive, with exaggerated features and emotive facial expressions.\n",
      "3. **Dynamic storytelling**: Anime stories can be complex and layered, exploring themes and emotions in a way that resonates with audiences worldwide.\n",
      "4. **Cultural influences**: Anime is deeply rooted in Japanese culture, incorporating elements like history, mythology, and social commentary.\n",
      "\n",
      "Anime has evolved over the years, with various sub-genres emerging, such as:\n",
      "\n",
      "1. **Shonen anime**: Typically aimed at a male audience, this genre focuses on action-packed stories often featuring teenage heroes.\n",
      "2. **Shojo anime**: Targeting a female audience, these stories usually focus on romance and relationships.\n",
      "3. **Seinen anime**: A more mature take on anime, often featuring complex themes and storylines geared towards older males.\n",
      "4. **Josei anime**: A genre targeting an adult female audience, with stories that explore relationships, careers, and personal growth.\n",
      "\n",
      "Some popular examples of anime include:\n",
      "\n",
      "1. **Dragon Ball Z**\n",
      "2. **Naruto**\n",
      "3. **Attack on Titan**\n",
      "4. **Your Lie in April**\n",
      "5. **Spirited Away** (winner of the Academy Award for Best Animated Feature)\n",
      "\n",
      "Anime has become a global phenomenon, with millions of fans worldwide. It's not only entertaining but also educational, offering insights into Japanese culture and society.\n",
      "\n",
      "Are you an anime fan? Do you have a favorite series or character?\n"
     ]
    }
   ],
   "source": [
    "pyload = json.dumps({'model':'llama3.1:8b','prompt':'What is Anime ?', 'stream':False})\n",
    "print(requests.post(ollama_endpoint,data=pyload).json()['response'])"
   ]
  },
  {
   "cell_type": "code",
   "execution_count": 14,
   "metadata": {},
   "outputs": [
    {
     "name": "stdout",
     "output_type": "stream",
     "text": [
      "Anime, also known as Japanese animation, is a style of animated media originating from Japan. It's a distinct genre that combines elements of art, storytelling, and technique to create unique and captivating visual experiences.\n",
      "\n",
      "Characteristics of anime:\n",
      "\n",
      "1. Visual style: Anime often features vibrant colors, exaggerated facial expressions, dynamic action sequences, and detailed backgrounds.\n",
      "2. Storytelling: Anime stories can range from action-adventure, romance, comedy, drama, science fiction, fantasy, horror, and more. Many series explore complex themes, such as social issues, morality, and personal growth.\n",
      "3. Character design: Anime characters often have distinctive physical appearances, with elaborate hairstyles, costumes, and accessories that reflect their personalities or backgrounds.\n",
      "4. Themes: Anime frequently explores mature themes, including relationships, family dynamics, mental health, social responsibility, and existential crises.\n",
      "\n",
      "Types of anime:\n",
      "\n",
      "1. Shonen (boys' manga): Action-packed series aimed at a young male audience, often featuring over-the-top action sequences and dramatic plot twists.\n",
      "2. Shojo (girls' manga): Series targeting a female audience, usually focusing on romance, relationships, and emotional struggles.\n",
      "3. Seinen (men's manga): Anime intended for adult males, often incorporating darker themes, mature content, and complex storylines.\n",
      "4. Josei (women's manga): Anime aimed at young adult women, typically exploring themes of love, family, and self-discovery.\n",
      "\n",
      "Some popular anime sub-genres include:\n",
      "\n",
      "* Mecha: Science fiction series featuring giant robots, space battles, and futuristic settings.\n",
      "* Comedy: Light-hearted series focusing on humor, satire, or parody.\n",
      "* Romance: Anime that explores relationships, love stories, and emotional connections.\n",
      "* Science Fiction: Series set in a science fiction universe, often featuring advanced technology, alternate realities, or speculative concepts.\n",
      "\n",
      "Notable anime titles include:\n",
      "\n",
      "* Dragon Ball (action-adventure)\n",
      "* Pokémon (adventure-comedy)\n",
      "* Spirited Away (fantasy-drama)\n",
      "* Attack on Titan (dark fantasy-action)\n",
      "* Your Lie in April (romance-drama)\n",
      "\n",
      "Anime has become a global phenomenon, with millions of fans worldwide. It's often used as a medium to explore complex ideas, social issues, and human emotions in an engaging and entertaining way.\n",
      "\n",
      "Is there something specific you'd like to know about anime?"
     ]
    }
   ],
   "source": [
    "# with stream set as True\n",
    "import sys\n",
    "import time\n",
    "import re\n",
    "\n",
    "\n",
    "# Prepare the payload\n",
    "payload = {\n",
    "    'model': 'llama3.1:8b',\n",
    "    'prompt': 'What is Anime?',\n",
    "    'stream': True,  \n",
    "    'max_length': 100\n",
    "}\n",
    "\n",
    "# Set headers\n",
    "headers = {'Content-Type': 'application/json'}\n",
    "\n",
    "def clean_text(text):\n",
    "    \"\"\"\n",
    "    Clean up the response text by removing unwanted symbols and formatting.\n",
    "    \"\"\"\n",
    "    # Remove bullet points and numbering\n",
    "    # text = re.sub(r'\\d+\\.\\s*', '', text)  # Remove numbering (e.g., \"1. \", \"2. \")\n",
    "    \n",
    "    # Remove formatting symbols like asterisks used for bold\n",
    "    text = re.sub(r'\\*\\*', '', text)  # Remove asterisks for bold (e.g., \"**Style**\")\n",
    "    \n",
    "\n",
    "    \n",
    "    return text\n",
    "\n",
    "try:\n",
    "    # Make a POST request to the local API endpoint with JSON parameter and enable streaming\n",
    "    with requests.post(ollama_endpoint, json=payload, headers=headers, stream=True, timeout=180) as response:\n",
    "        response.raise_for_status()  # Raise an error for bad HTTP responses\n",
    "        \n",
    "        # Accumulate the response text\n",
    "        response_text = \"\"\n",
    "        \n",
    "        # Process the response incrementally as each line of data is received\n",
    "        for line in response.iter_lines():\n",
    "            if line:  # Filter out keep-alive new lines\n",
    "                try:\n",
    "                    # Decode and parse each line as JSON\n",
    "                    decoded_line = line.decode('utf-8')\n",
    "                    json_line = json.loads(decoded_line)\n",
    "                    \n",
    "                    # Extract and clean the 'response' field\n",
    "                    if 'response' in json_line:\n",
    "                        clean_response = clean_text(json_line['response'])\n",
    "                        response_text += clean_response\n",
    "                        \n",
    "                        # Optionally simulate typing effect\n",
    "                        sys.stdout.write(clean_response)\n",
    "                        sys.stdout.flush()\n",
    "                        time.sleep(0.05)  # Small delay to simulate typing effect\n",
    "                    \n",
    "                    # Check for termination condition\n",
    "                    if 'done' in json_line and json_line['done']:\n",
    "                        break  # Exit the loop if the response is complete\n",
    "\n",
    "                except (ValueError, json.JSONDecodeError) as e:\n",
    "                    print(f\"Error parsing line: {e}\")\n",
    "        \n",
    "        # Print the complete accumulated response content\n",
    "        # print(\"\\nComplete Response:\")\n",
    "        # print(response_text.strip())  # Print the accumulated response text\n",
    "\n",
    "except requests.exceptions.RequestException as e:\n",
    "    print(f\"An error occurred: {e}\")\n"
   ]
  },
  {
   "cell_type": "code",
   "execution_count": 15,
   "metadata": {},
   "outputs": [
    {
     "name": "stdout",
     "output_type": "stream",
     "text": [
      "Anime is a style of Japanese animation that has gained worldwide popularity over the past few decades. The term \"anime\" refers to any animated production created in Japan, ranging from TV shows and movies to web series and shorts.\n",
      "\n",
      "Characteristics of anime:\n",
      "\n",
      "1. Visual style: Anime often features vibrant, stylized visuals with exaggerated facial expressions, dynamic action sequences, and detailed backgrounds.\n",
      "2. Storytelling: Anime stories can be diverse, covering genres like romance, comedy, drama, science fiction, fantasy, and more. Many anime series also have complex characters, character development, and plot twists.\n",
      "3. Target audience: While some anime is designed for a general audience (e.g., children's shows), many series are geared towards specific age groups or demographics, such as teenagers, adults, or both.\n",
      "4. Cultural influences: Anime often incorporates Japanese culture, history, mythology, and values into its stories and settings.\n",
      "\n",
      "Types of anime:\n",
      "\n",
      "1. Shonen (boy-oriented): Action-packed, adventurous series aimed at a male audience (e.g., Dragon Ball, Naruto).\n",
      "2. Shojo (girl-oriented): Romance-focused series targeting a female audience (e.g., Sailor Moon, Cardcaptor Sakura).\n",
      "3. Seinen (adult male): More mature, complex anime for older men (e.g., Akira, Ghost in the Shell).\n",
      "4. Josei (adult female): Anime targeted at adult women, often with more nuanced themes and character development (e.g., Nana, Paradise Kiss).\n",
      "\n",
      "Some popular anime genres include:\n",
      "\n",
      "1. Action: Fast-paced, thrilling stories with lots of combat and excitement (e.g., Dragon Ball Z, One Piece).\n",
      "2. Science fiction: Exploring futuristic worlds, technologies, and philosophies (e.g., Neon Genesis Evangelion, Fullmetal Alchemist).\n",
      "3. Comedy: Humorous anime that often use satire, parody, or absurdity to entertain audiences (e.g., Gintama, Ouran High School Host Club).\n",
      "\n",
      "Anime has become a global phenomenon, with millions of fans worldwide and a wide range of adaptations in other media, such as:\n",
      "\n",
      "1. Manga (Japanese comics): The original source material for many anime series.\n",
      "2. Video games: Many anime-inspired video games are available on various platforms.\n",
      "3. Films: Anime movies have gained recognition at film festivals and won awards.\n",
      "\n",
      "In short, anime is a diverse and vibrant style of Japanese animation that has captured the hearts of audiences worldwide with its unique blend of storytelling, visuals, and cultural influences."
     ]
    }
   ],
   "source": [
    "# with stream set as False\n",
    "\n",
    "# Prepare the payload\n",
    "payload = {\n",
    "    'model': 'llama3.1:8b',\n",
    "    'prompt': 'What is Anime?',\n",
    "    'stream': False,  \n",
    "    'max_length': 50\n",
    "}\n",
    "\n",
    "# Set headers\n",
    "headers = {'Content-Type': 'application/json'}\n",
    "\n",
    "def clean_text(text):\n",
    "    \"\"\"\n",
    "    Clean up the response text by removing unwanted symbols and formatting.\n",
    "    \"\"\"\n",
    "    # Remove bullet points and numbering\n",
    "    # text = re.sub(r'\\d+\\.\\s*', '', text)  # Remove numbering (e.g., \"1. \", \"2. \")\n",
    "    \n",
    "    # Remove formatting symbols like asterisks used for bold\n",
    "    text = re.sub(r'\\*\\*', '', text)  # Remove asterisks for bold (e.g., \"**Style**\")\n",
    "    \n",
    "\n",
    "    \n",
    "    return text\n",
    "\n",
    "try:\n",
    "    # Make a POST request to the local API endpoint with JSON parameter and enable streaming\n",
    "    with requests.post(ollama_endpoint, json=payload, headers=headers, stream=True, timeout=180) as response:\n",
    "        response.raise_for_status()  # Raise an error for bad HTTP responses\n",
    "        \n",
    "        # Accumulate the response text\n",
    "        response_text = \"\"\n",
    "        \n",
    "        # Process the response incrementally as each line of data is received\n",
    "        for line in response.iter_lines():\n",
    "            if line:  # Filter out keep-alive new lines\n",
    "                try:\n",
    "                    # Decode and parse each line as JSON\n",
    "                    decoded_line = line.decode('utf-8')\n",
    "                    json_line = json.loads(decoded_line)\n",
    "                    \n",
    "                    # Extract and clean the 'response' field\n",
    "                    if 'response' in json_line:\n",
    "                        clean_response = clean_text(json_line['response'])\n",
    "                        response_text += clean_response\n",
    "                        \n",
    "                        # Optionally simulate typing effect\n",
    "                        sys.stdout.write(clean_response)\n",
    "                        sys.stdout.flush()\n",
    "                        time.sleep(0.05)  # Small delay to simulate typing effect\n",
    "                    \n",
    "                    # Check for termination condition\n",
    "                    if 'done' in json_line and json_line['done']:\n",
    "                        break  # Exit the loop if the response is complete\n",
    "\n",
    "                except (ValueError, json.JSONDecodeError) as e:\n",
    "                    print(f\"Error parsing line: {e}\")\n",
    "        \n",
    "        # Print the complete accumulated response content\n",
    "        # print(\"\\nComplete Response:\")\n",
    "        # print(response_text.strip())  # Print the accumulated response text\n",
    "\n",
    "except requests.exceptions.RequestException as e:\n",
    "    print(f\"An error occurred: {e}\")\n"
   ]
  },
  {
   "cell_type": "markdown",
   "metadata": {},
   "source": [
    "## use ollama directly from langchain_community API"
   ]
  },
  {
   "cell_type": "code",
   "execution_count": 16,
   "metadata": {},
   "outputs": [
    {
     "name": "stdout",
     "output_type": "stream",
     "text": [
      "Here's one:\n",
      "\n",
      "What do you call a fake noodle?\n",
      "\n",
      "An impasta!\n",
      "\n",
      "Hope that made you laugh! Do you want to hear another one?\n"
     ]
    }
   ],
   "source": [
    "import concurrent.futures\n",
    "from langchain_community.llms import Ollama\n",
    "\n",
    "# Initialize the model\n",
    "llm = Ollama(model='llama3.1:8b', temperature=0)\n",
    "\n",
    "def get_response(prompt):\n",
    "    return llm.invoke(prompt)\n",
    "\n",
    "# Set timeout duration (in seconds)\n",
    "timeout_duration = 60  \n",
    "\n",
    "# Set maximum length for the response text\n",
    "max_length = 200  \n",
    "\n",
    "# Use a ThreadPoolExecutor to handle timeouts\n",
    "with concurrent.futures.ThreadPoolExecutor() as executor:\n",
    "    future = executor.submit(get_response, \"Tell me a joke\")\n",
    "    try:\n",
    "        response = future.result(timeout=timeout_duration)\n",
    "        # Truncate the response to the maximum length\n",
    "        if len(response) > max_length:\n",
    "            response = response[:max_length] + '...'  \n",
    "        print(response)\n",
    "    except concurrent.futures.TimeoutError:\n",
    "        print(\"The request timed out.\")\n"
   ]
  }
 ],
 "metadata": {
  "kernelspec": {
   "display_name": "Python 3",
   "language": "python",
   "name": "python3"
  },
  "language_info": {
   "codemirror_mode": {
    "name": "ipython",
    "version": 3
   },
   "file_extension": ".py",
   "mimetype": "text/x-python",
   "name": "python",
   "nbconvert_exporter": "python",
   "pygments_lexer": "ipython3",
   "version": "3.10.12"
  }
 },
 "nbformat": 4,
 "nbformat_minor": 2
}
