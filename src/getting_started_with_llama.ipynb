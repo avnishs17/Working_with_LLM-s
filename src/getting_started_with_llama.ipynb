{
 "cells": [
  {
   "cell_type": "code",
   "execution_count": 2,
   "metadata": {},
   "outputs": [
    {
     "name": "stdout",
     "output_type": "stream",
     "text": [
      "Collecting ollama==0.2.1\n",
      "  Downloading ollama-0.2.1-py3-none-any.whl.metadata (4.2 kB)\n",
      "Collecting requests==2.32.2\n",
      "  Downloading requests-2.32.2-py3-none-any.whl.metadata (4.6 kB)\n",
      "Requirement already satisfied: httpx<0.28.0,>=0.27.0 in f:\\avnish_jrf\\e\\working_with_llms\\env\\lib\\site-packages (from ollama==0.2.1) (0.27.2)\n",
      "Requirement already satisfied: charset-normalizer<4,>=2 in f:\\avnish_jrf\\e\\working_with_llms\\env\\lib\\site-packages (from requests==2.32.2) (3.3.2)\n",
      "Requirement already satisfied: idna<4,>=2.5 in f:\\avnish_jrf\\e\\working_with_llms\\env\\lib\\site-packages (from requests==2.32.2) (3.8)\n",
      "Requirement already satisfied: urllib3<3,>=1.21.1 in f:\\avnish_jrf\\e\\working_with_llms\\env\\lib\\site-packages (from requests==2.32.2) (2.2.3)\n",
      "Requirement already satisfied: certifi>=2017.4.17 in f:\\avnish_jrf\\e\\working_with_llms\\env\\lib\\site-packages (from requests==2.32.2) (2024.8.30)\n",
      "Requirement already satisfied: anyio in f:\\avnish_jrf\\e\\working_with_llms\\env\\lib\\site-packages (from httpx<0.28.0,>=0.27.0->ollama==0.2.1) (4.4.0)\n",
      "Requirement already satisfied: httpcore==1.* in f:\\avnish_jrf\\e\\working_with_llms\\env\\lib\\site-packages (from httpx<0.28.0,>=0.27.0->ollama==0.2.1) (1.0.5)\n",
      "Requirement already satisfied: sniffio in f:\\avnish_jrf\\e\\working_with_llms\\env\\lib\\site-packages (from httpx<0.28.0,>=0.27.0->ollama==0.2.1) (1.3.1)\n",
      "Requirement already satisfied: h11<0.15,>=0.13 in f:\\avnish_jrf\\e\\working_with_llms\\env\\lib\\site-packages (from httpcore==1.*->httpx<0.28.0,>=0.27.0->ollama==0.2.1) (0.14.0)\n",
      "Requirement already satisfied: exceptiongroup>=1.0.2 in f:\\avnish_jrf\\e\\working_with_llms\\env\\lib\\site-packages (from anyio->httpx<0.28.0,>=0.27.0->ollama==0.2.1) (1.2.2)\n",
      "Requirement already satisfied: typing-extensions>=4.1 in f:\\avnish_jrf\\e\\working_with_llms\\env\\lib\\site-packages (from anyio->httpx<0.28.0,>=0.27.0->ollama==0.2.1) (4.12.2)\n",
      "Downloading ollama-0.2.1-py3-none-any.whl (9.7 kB)\n",
      "Downloading requests-2.32.2-py3-none-any.whl (63 kB)\n",
      "Installing collected packages: requests, ollama\n",
      "  Attempting uninstall: requests\n",
      "    Found existing installation: requests 2.32.3\n",
      "    Uninstalling requests-2.32.3:\n",
      "      Successfully uninstalled requests-2.32.3\n",
      "Successfully installed ollama-0.2.1 requests-2.32.2\n"
     ]
    }
   ],
   "source": [
    "# !pip install ollama==0.2.1 requests==2.32.2 langchain-community==0.2.4"
   ]
  },
  {
   "cell_type": "code",
   "execution_count": 3,
   "metadata": {},
   "outputs": [],
   "source": [
    "import ollama"
   ]
  },
  {
   "cell_type": "code",
   "execution_count": 5,
   "metadata": {},
   "outputs": [
    {
     "name": "stdout",
     "output_type": "stream",
     "text": [
      "Help on method chat in module ollama._client:\n",
      "\n",
      "chat(model: str = '', messages: Optional[Sequence[ollama._types.Message]] = None, stream: bool = False, format: Literal['', 'json'] = '', options: Optional[ollama._types.Options] = None, keep_alive: Union[float, str, NoneType] = None) -> Union[Mapping[str, Any], collections.abc.Iterator[Mapping[str, Any]]] method of ollama._client.Client instance\n",
      "    Create a chat response using the requested model.\n",
      "    \n",
      "    Raises `RequestError` if a model is not provided.\n",
      "    \n",
      "    Raises `ResponseError` if the request could not be fulfilled.\n",
      "    \n",
      "    Returns `ChatResponse` if `stream` is `False`, otherwise returns a `ChatResponse` generator.\n",
      "\n"
     ]
    }
   ],
   "source": [
    "help(ollama.chat)"
   ]
  },
  {
   "cell_type": "code",
   "execution_count": 8,
   "metadata": {},
   "outputs": [],
   "source": [
    "response = ollama.chat(\n",
    "    model=\"llama3.1:8b\",  # Use a plain string for the model\n",
    "    messages=[\n",
    "        {'role': 'system', 'content': \"You are a Machine learning enthusiast\"},\n",
    "        {'role': 'user', 'content': 'What is Machine learning?'},\n",
    "        {'role': 'assistant', 'content': \"Machine Learning is a subfield of Artificial Intelligence where a model learns from the data\"},\n",
    "        {'role': 'user', 'content': 'What is Deep Learning?'}\n",
    "    ]\n",
    ")\n"
   ]
  },
  {
   "cell_type": "code",
   "execution_count": 9,
   "metadata": {},
   "outputs": [
    {
     "name": "stdout",
     "output_type": "stream",
     "text": [
      "Deep Learning is a subset of Machine Learning that uses neural networks with multiple layers to analyze and learn from complex patterns in data. These neural networks are \"deep\" because they have many layers, which allows them to learn abstract representations of data, making it possible to achieve state-of-the-art results in various tasks such as:\n",
      "\n",
      "* Image recognition\n",
      "* Speech recognition\n",
      "* Natural Language Processing (NLP)\n",
      "* Predictive modeling\n",
      "\n",
      "The key idea behind Deep Learning is that the model can automatically learn and improve its performance on a given task without being explicitly programmed for each specific task, making it a powerful tool for many applications!\n"
     ]
    }
   ],
   "source": [
    "print(response['message']['content'])"
   ]
  },
  {
   "cell_type": "code",
   "execution_count": 11,
   "metadata": {},
   "outputs": [],
   "source": [
    "import json, requests"
   ]
  },
  {
   "cell_type": "code",
   "execution_count": null,
   "metadata": {},
   "outputs": [],
   "source": [
    "# calling from local api endpoint"
   ]
  },
  {
   "cell_type": "code",
   "execution_count": 12,
   "metadata": {},
   "outputs": [],
   "source": [
    "ollama_endpoint =\"http://localhost:11434/api/generate\""
   ]
  },
  {
   "cell_type": "code",
   "execution_count": 13,
   "metadata": {},
   "outputs": [],
   "source": [
    "pyload = json.dumps({'model':'llama3.1:8b','prompt':'Why is the sky blue?', 'stream':False})"
   ]
  },
  {
   "cell_type": "code",
   "execution_count": 14,
   "metadata": {},
   "outputs": [],
   "source": [
    "response = requests.post(ollama_endpoint,data=pyload)"
   ]
  },
  {
   "cell_type": "code",
   "execution_count": 15,
   "metadata": {},
   "outputs": [],
   "source": [
    "response =response.json()['response']"
   ]
  },
  {
   "cell_type": "code",
   "execution_count": 16,
   "metadata": {},
   "outputs": [
    {
     "name": "stdout",
     "output_type": "stream",
     "text": [
      "The sky appears blue to us during the daytime because of a phenomenon called Rayleigh scattering. Here's why:\n",
      "\n",
      "1.  **Light Composition**: When sunlight enters Earth's atmosphere, it contains all the colors of the visible spectrum: red, orange, yellow, green, blue, indigo, and violet.\n",
      "\n",
      "2.  **Scattering**: As this light travels through the atmosphere, it encounters tiny molecules of gases like nitrogen (N2) and oxygen (O2). These molecules are much smaller than the wavelength of light. When light hits these small molecules, it scatters in all directions due to its interaction with them.\n",
      "\n",
      "3.  **Wavelength**: The shorter wavelengths of light (such as blue and violet) scatter more than the longer wavelengths (like red and orange) because they interact more strongly with the small gas molecules. This scattering effect is known as Rayleigh scattering, named after the British physicist Lord Rayleigh who first described this phenomenon in the late 19th century.\n",
      "\n",
      "4.  **Color Perception**: As a result of this scattering, the blue light, which has the shortest wavelength among all visible colors and thus scatters the most, becomes distributed more evenly throughout the atmosphere compared to other wavelengths. This scattered blue light reaches our eyes from all directions around us, creating the sky's blue appearance.\n",
      "\n",
      "5.  **Time and Atmospheric Conditions**: The color of the sky can change based on time and atmospheric conditions. During sunrise and sunset, when sunlight passes through more of Earth's atmosphere (thus scattering off more particles), the light has to travel longer distances, and as a result, it encounters water droplets in clouds or aerosols in the air, which scatter the shorter wavelengths more than usual. This is why the sky often appears red or orange during these times.\n",
      "\n",
      "6.  **Atmospheric Dust and Pollutants**: The presence of atmospheric dust, smoke from wildfires, pollution particles, and other substances can also affect how the light scatters. These particles absorb certain wavelengths, making the sky appear more hazy or changing its color to a different shade.\n",
      "\n",
      "7.  **Space Observations**: Outside Earth's atmosphere, like in space, the sky is black because there are no atmospheric particles to scatter sunlight towards observers on the surface of planets, including our own.\n"
     ]
    }
   ],
   "source": [
    "print(response)"
   ]
  },
  {
   "cell_type": "code",
   "execution_count": 18,
   "metadata": {},
   "outputs": [
    {
     "name": "stdout",
     "output_type": "stream",
     "text": [
      "Anime is a style of Japanese animation that has gained immense popularity worldwide, especially among young adults and fans of science fiction, fantasy, action, romance, comedy, and drama. Here's a brief overview:\n",
      "\n",
      "**Origins:** Anime originated in Japan in the early 20th century, influenced by Western animation techniques and traditional Japanese art forms such as manga (Japanese comics) and ukiyo-e (woodblock prints). The term \"anime\" was first used to describe Japanese animation in the 1970s.\n",
      "\n",
      "**Characteristics:**\n",
      "\n",
      "1. **Visual style:** Anime is known for its unique visual aesthetic, often featuring vibrant colors, exaggerated facial expressions, and stylized character designs.\n",
      "2. **Storytelling:** Anime stories can be highly imaginative, exploring themes like friendship, love, sacrifice, and self-discovery in the face of adversity.\n",
      "3. **Genre diversity:** Anime encompasses a wide range of genres, including action, adventure, comedy, drama, fantasy, horror, mystery, romance, science fiction, and more.\n",
      "4. **Music and sound effects:** Anime often features memorable theme songs, background music, and sound effects that enhance the viewing experience.\n",
      "\n",
      "**Popular anime sub-genres:**\n",
      "\n",
      "1. **Shonen anime** (for boys): Focuses on action-packed stories with themes like friendship and camaraderie. Examples: Dragon Ball, Naruto, One Piece.\n",
      "2. **Shojo anime** (for girls): Emphasizes romance, drama, and emotional depth. Examples: Sailor Moon, Cardcaptor Sakura, Fruits Basket.\n",
      "3. **Seinen anime** (for men): Typically features more mature themes, complex storylines, and darker tones. Examples: Akira, Ghost in the Shell, Tokyo Ghoul.\n",
      "4. **Josei anime** (for women): Similar to shojo anime but with more mature themes and a focus on realistic relationships. Examples: Paradise Kiss, Nana, Honey and Clover.\n",
      "\n",
      "**Notable examples of anime:**\n",
      "\n",
      "1. **Akira** (1988): A sci-fi classic set in a post-apocalyptic world.\n",
      "2. **Dragon Ball Z** (1989-1996): An epic martial arts-based adventure series.\n",
      "3. **Spirited Away** (2001): A fantasy film by Hayao Miyazaki, winner of the Academy Award for Best Animated Feature.\n",
      "4. **Attack on Titan** (2013-present): A dark fantasy series set in a world overrun by giant humanoid creatures.\n",
      "\n",
      "Anime has become a global phenomenon, with fans from all over the world appreciating its unique blend of art, storytelling, and cultural expression.\n"
     ]
    }
   ],
   "source": [
    "pyload = json.dumps({'model':'llama3.1:8b','prompt':'What is Anime ?', 'stream':False})\n",
    "print(requests.post(ollama_endpoint,data=pyload).json()['response'])"
   ]
  },
  {
   "cell_type": "code",
   "execution_count": 2,
   "metadata": {},
   "outputs": [
    {
     "name": "stdout",
     "output_type": "stream",
     "text": [
      "Anime is a style of Japanese animation that has gained immense popularity worldwide. The term \"anime\" encompasses a wide range of animated productions, from TV shows and movies to web series and shorts.\n",
      "\n",
      "Characteristics of anime include:\n",
      "\n",
      "1. Distinct visual style: Anime often features vibrant colors, exaggerated facial expressions, and dynamic action sequences.\n",
      "2. Unique storytelling: Anime stories can be based on Japanese folklore, manga (Japanese comics), or original concepts, and may incorporate elements like fantasy, science fiction, romance, drama, or comedy.\n",
      "3. Deep cultural roots: Anime reflects Japan's culture, history, and values, often incorporating traditional themes, customs, and aesthetics.\n",
      "4. Variety of genres: Anime spans many genres, including action, adventure, comedy, drama, horror, mystery, romance, science fiction, and more.\n",
      "\n",
      "Some common features of anime include:\n",
      "\n",
      "* Character designs: Anime characters are often designed with distinctive facial expressions, hairstyles, and clothing.\n",
      "* Story arcs: Many anime shows have ongoing storylines that span multiple episodes or seasons.\n",
      "* Themes: Anime frequently explores themes like friendship, love, sacrifice, self-improvement, and social commentary.\n",
      "\n",
      "Types of anime include:\n",
      "\n",
      "1. Shonen (male-oriented): Typically action-packed and aimed at a male audience, examples include Dragon Ball, Naruto, and One Piece.\n",
      "2. Shojo (female-oriented): Often romantic and focused on relationships, examples include Sailor Moon, Cardcaptor Sakura, and Fruits Basket.\n",
      "3. Seinen (young adult-oriented): Aimed at older audiences, often with more mature themes and complexity, examples include Ghost in the Shell and Akira.\n",
      "4. Josei (adult-oriented): Targeting a female audience, often focusing on relationships and drama, examples include Nana and Paradise Kiss.\n",
      "\n",
      "Anime has become a significant part of global pop culture, with fans worldwide enjoying its unique style, engaging stories, and rich cultural context.\n",
      "\n",
      "Would you like to know more about anime or is there something specific you'd like to ask?\n",
      "Complete Response:\n",
      "Anime is a style of Japanese animation that has gained immense popularity worldwide. The term \"anime\" encompasses a wide range of animated productions, from TV shows and movies to web series and shorts.\n",
      "\n",
      "Characteristics of anime include:\n",
      "\n",
      "1. Distinct visual style: Anime often features vibrant colors, exaggerated facial expressions, and dynamic action sequences.\n",
      "2. Unique storytelling: Anime stories can be based on Japanese folklore, manga (Japanese comics), or original concepts, and may incorporate elements like fantasy, science fiction, romance, drama, or comedy.\n",
      "3. Deep cultural roots: Anime reflects Japan's culture, history, and values, often incorporating traditional themes, customs, and aesthetics.\n",
      "4. Variety of genres: Anime spans many genres, including action, adventure, comedy, drama, horror, mystery, romance, science fiction, and more.\n",
      "\n",
      "Some common features of anime include:\n",
      "\n",
      "* Character designs: Anime characters are often designed with distinctive facial expressions, hairstyles, and clothing.\n",
      "* Story arcs: Many anime shows have ongoing storylines that span multiple episodes or seasons.\n",
      "* Themes: Anime frequently explores themes like friendship, love, sacrifice, self-improvement, and social commentary.\n",
      "\n",
      "Types of anime include:\n",
      "\n",
      "1. Shonen (male-oriented): Typically action-packed and aimed at a male audience, examples include Dragon Ball, Naruto, and One Piece.\n",
      "2. Shojo (female-oriented): Often romantic and focused on relationships, examples include Sailor Moon, Cardcaptor Sakura, and Fruits Basket.\n",
      "3. Seinen (young adult-oriented): Aimed at older audiences, often with more mature themes and complexity, examples include Ghost in the Shell and Akira.\n",
      "4. Josei (adult-oriented): Targeting a female audience, often focusing on relationships and drama, examples include Nana and Paradise Kiss.\n",
      "\n",
      "Anime has become a significant part of global pop culture, with fans worldwide enjoying its unique style, engaging stories, and rich cultural context.\n",
      "\n",
      "Would you like to know more about anime or is there something specific you'd like to ask?\n"
     ]
    }
   ],
   "source": [
    "import requests\n",
    "import sys\n",
    "import time\n",
    "import json\n",
    "import re\n",
    "\n",
    "# Define the local API endpoint\n",
    "ollama_endpoint = \"http://localhost:11434/api/generate\"  # Replace with your actual endpoint\n",
    "\n",
    "# Prepare the payload\n",
    "payload = {\n",
    "    'model': 'llama3.1:8b',\n",
    "    'prompt': 'What is Anime?',\n",
    "    'stream': True,  # Expect a streamed response from the server\n",
    "    'max_length': 100\n",
    "}\n",
    "\n",
    "# Set headers\n",
    "headers = {'Content-Type': 'application/json'}\n",
    "\n",
    "def clean_text(text):\n",
    "    \"\"\"\n",
    "    Clean up the response text by removing unwanted symbols and formatting.\n",
    "    \"\"\"\n",
    "    # Remove bullet points and numbering\n",
    "    # text = re.sub(r'\\d+\\.\\s*', '', text)  # Remove numbering (e.g., \"1. \", \"2. \")\n",
    "    \n",
    "    # Remove formatting symbols like asterisks used for bold\n",
    "    text = re.sub(r'\\*\\*', '', text)  # Remove asterisks for bold (e.g., \"**Style**\")\n",
    "    \n",
    "\n",
    "    \n",
    "    return text\n",
    "\n",
    "try:\n",
    "    # Make a POST request to the local API endpoint with JSON parameter and enable streaming\n",
    "    with requests.post(ollama_endpoint, json=payload, headers=headers, stream=True, timeout=60) as response:\n",
    "        response.raise_for_status()  # Raise an error for bad HTTP responses\n",
    "        \n",
    "        # Accumulate the response text\n",
    "        response_text = \"\"\n",
    "        \n",
    "        # Process the response incrementally as each line of data is received\n",
    "        for line in response.iter_lines():\n",
    "            if line:  # Filter out keep-alive new lines\n",
    "                try:\n",
    "                    # Decode and parse each line as JSON\n",
    "                    decoded_line = line.decode('utf-8')\n",
    "                    json_line = json.loads(decoded_line)\n",
    "                    \n",
    "                    # Extract and clean the 'response' field\n",
    "                    if 'response' in json_line:\n",
    "                        clean_response = clean_text(json_line['response'])\n",
    "                        response_text += clean_response\n",
    "                        \n",
    "                        # Optionally simulate typing effect\n",
    "                        sys.stdout.write(clean_response)\n",
    "                        sys.stdout.flush()\n",
    "                        time.sleep(0.05)  # Small delay to simulate typing effect\n",
    "                    \n",
    "                    # Check for termination condition\n",
    "                    if 'done' in json_line and json_line['done']:\n",
    "                        break  # Exit the loop if the response is complete\n",
    "\n",
    "                except (ValueError, json.JSONDecodeError) as e:\n",
    "                    print(f\"Error parsing line: {e}\")\n",
    "        \n",
    "        # Print the complete accumulated response content\n",
    "        print(\"\\nComplete Response:\")\n",
    "        print(response_text.strip())  # Print the accumulated response text\n",
    "\n",
    "except requests.exceptions.RequestException as e:\n",
    "    print(f\"An error occurred: {e}\")\n"
   ]
  },
  {
   "cell_type": "code",
   "execution_count": null,
   "metadata": {},
   "outputs": [],
   "source": []
  }
 ],
 "metadata": {
  "kernelspec": {
   "display_name": "Python 3",
   "language": "python",
   "name": "python3"
  },
  "language_info": {
   "codemirror_mode": {
    "name": "ipython",
    "version": 3
   },
   "file_extension": ".py",
   "mimetype": "text/x-python",
   "name": "python",
   "nbconvert_exporter": "python",
   "pygments_lexer": "ipython3",
   "version": "3.10.12"
  }
 },
 "nbformat": 4,
 "nbformat_minor": 2
}
